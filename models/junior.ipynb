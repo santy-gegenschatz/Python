{
 "cells": [
  {
   "cell_type": "markdown",
   "metadata": {},
   "source": [
    "### Pandas Package"
   ]
  },
  {
   "cell_type": "code",
   "execution_count": 2,
   "metadata": {},
   "outputs": [],
   "source": [
    "import numpy as np\n",
    "import pandas as pd"
   ]
  },
  {
   "cell_type": "markdown",
   "metadata": {},
   "source": [
    "#### Pandas Series"
   ]
  },
  {
   "cell_type": "code",
   "execution_count": 3,
   "metadata": {},
   "outputs": [],
   "source": [
    "# They are built upon numpy arrays, that's why it is important to understand them"
   ]
  },
  {
   "cell_type": "code",
   "execution_count": 4,
   "metadata": {},
   "outputs": [
    {
     "name": "stdout",
     "output_type": "stream",
     "text": [
      "[1, 2, 3, 4]\n",
      "[1 2 3 4]\n"
     ]
    }
   ],
   "source": [
    "# Let us have a list and an array\n",
    "list_1 = [1,2,3,4]\n",
    "array_1 = np.arange(1,5)\n",
    "print(list_1)\n",
    "print(array_1)"
   ]
  },
  {
   "cell_type": "code",
   "execution_count": 5,
   "metadata": {},
   "outputs": [
    {
     "name": "stdout",
     "output_type": "stream",
     "text": [
      "0    1\n",
      "1    2\n",
      "2    3\n",
      "3    4\n",
      "dtype: int64\n",
      "0    1\n",
      "1    2\n",
      "2    3\n",
      "3    4\n",
      "dtype: int64\n"
     ]
    }
   ],
   "source": [
    "# Let's make a series out of the list and the array\n",
    "series_1 = pd.Series(list_1)\n",
    "series_2 = pd.Series(array_1)\n",
    "print(series_1)\n",
    "print(series_2)\n",
    "# The series are the same"
   ]
  },
  {
   "cell_type": "code",
   "execution_count": 6,
   "metadata": {},
   "outputs": [
    {
     "name": "stdout",
     "output_type": "stream",
     "text": [
      "Index:  RangeIndex(start=0, stop=4, step=1)\n",
      "-\n",
      "[1, 2, 3, 4]\n",
      "-\n",
      "0    1\n",
      "1    2\n",
      "2    3\n",
      "3    4\n",
      "dtype: int64\n",
      "-\n",
      "first     1\n",
      "second    2\n",
      "third     3\n",
      "last      4\n",
      "dtype: int64\n"
     ]
    }
   ],
   "source": [
    "# Basically series are an array concatenated with another array that acts as an index\n",
    "# We can replace the index for the values of a list of our choice\n",
    "list_new_index = ['first', 'second', 'third', 'last']\n",
    "series_3 = pd.Series(list_1, index = list_new_index)\n",
    "print('Index: ', series_1.index)\n",
    "print('-')\n",
    "print(list_1)\n",
    "print('-')\n",
    "print(series_1)\n",
    "print('-')\n",
    "print(series_3)"
   ]
  },
  {
   "cell_type": "markdown",
   "metadata": {},
   "source": [
    "### Pandas Dataframe"
   ]
  },
  {
   "cell_type": "code",
   "execution_count": 7,
   "metadata": {},
   "outputs": [
    {
     "name": "stdout",
     "output_type": "stream",
     "text": [
      "BMW X1    10000\n",
      "BMW X2    15000\n",
      "BMW X3    20000\n",
      "BMW X4    30000\n",
      "BMWX5     76500\n",
      "dtype: int64\n",
      "-\n",
      "BMW X1    1200\n",
      "BMW X2    1400\n",
      "BMW X3    1600\n",
      "BMW X4    1650\n",
      "BMWX5     2000\n",
      "dtype: int64\n"
     ]
    }
   ],
   "source": [
    "# We can conceptualize teh DataFrame as a series of lists, that share an index and\n",
    "# therefore are a Series. Then, the series which share the same index are put together in a DataFrame\n",
    "# where the index acts as the row identifier and the series as columns which are attributes for the object in \n",
    "# the row\n",
    "# Let's reivew an example:\n",
    "# 3 Lists with five items each\n",
    "car_models = ['BMW X1', 'BMW X2', 'BMW X3', 'BMW X4', 'BMWX5']\n",
    "car_prices = [10000, 15000, 20000, 30000, 76500]\n",
    "car_weights = [1200, 1400, 1600, 1650, 2000]\n",
    "# Let's create two series, with models as the index\n",
    "car_prices_series = pd.Series(car_prices, index = car_models)\n",
    "car_weights_series = pd.Series(car_weights, index = car_models)\n",
    "print(car_prices_series)\n",
    "print('-')\n",
    "print(car_weights_series)"
   ]
  },
  {
   "cell_type": "code",
   "execution_count": 8,
   "metadata": {},
   "outputs": [
    {
     "name": "stdout",
     "output_type": "stream",
     "text": [
      "        Price  Weight\n",
      "BMW X1  10000    1200\n",
      "BMW X2  15000    1400\n",
      "BMW X3  20000    1600\n",
      "BMW X4  30000    1650\n",
      "BMWX5   76500    2000\n"
     ]
    }
   ],
   "source": [
    "# Now, let's create a DataFrame out of the two series\n",
    "# Note that it takes a dictionary as an input, where each key is the name of a column.\n",
    "df_cars_info = pd.DataFrame({'Price' : car_prices_series, 'Weight' : car_weights_series})\n",
    "print(df_cars_info)"
   ]
  },
  {
   "cell_type": "code",
   "execution_count": 9,
   "metadata": {},
   "outputs": [
    {
     "name": "stdout",
     "output_type": "stream",
     "text": [
      "    A   B   C   D   E   F   G   H\n",
      "1   1   2   3   4   5   6   7   8\n",
      "2   9  10  11  12  13  14  15  16\n",
      "3  17  18  19  20  21  22  23  24\n",
      "4  25  26  27  28  29  30  31  32\n",
      "5  33  34  35  36  37  38  39  40\n",
      "6  41  42  43  44  45  46  47  48\n",
      "7  49  50  51  52  53  54  55  56\n",
      "8  57  58  59  60  61  62  63  64\n"
     ]
    }
   ],
   "source": [
    "# Also a DataFrame can be created from an array\n",
    "# For example:\n",
    "chess_squares = np.arange(1, 65).reshape(8,8)\n",
    "chess_df = pd.DataFrame(chess_squares, index=range(1,9), columns=['A', 'B', 'C', 'D', 'E', 'F', 'G', 'H'])\n",
    "print(chess_df)"
   ]
  },
  {
   "cell_type": "markdown",
   "metadata": {},
   "source": [
    "Beautiful!"
   ]
  },
  {
   "cell_type": "code",
   "execution_count": 10,
   "metadata": {},
   "outputs": [
    {
     "name": "stdout",
     "output_type": "stream",
     "text": [
      "Selection via index:  15000\n",
      "Selection with the loc method:      B   C   D   E\n",
      "1   2   3   4   5\n",
      "2  10  11  12  13\n",
      "3  18  19  20  21\n",
      "4  26  27  28  29\n",
      "Selection with the iloc method:      D   E   F   G   H\n",
      "1   4   5   6   7   8\n",
      "2  12  13  14  15  16\n",
      "3  20  21  22  23  24\n",
      "4  28  29  30  31  32\n"
     ]
    }
   ],
   "source": [
    "# Selection in a Series & DataFrames\n",
    "# There are 3 ways of doing it\n",
    "# Via the index\n",
    "element_1 = car_prices_series['BMW X2']\n",
    "print(\"Selection via index: \", element_1)\n",
    "# With the loc method => The loc method selects based upon labels for both columns & rows\n",
    "chess_squares_loc = chess_df.loc[1 : 4, 'B' : 'E', ]\n",
    "print('Selection with the loc method: ', chess_squares_loc)\n",
    "# With the iloc method => The same can be done but instead you are working with integer baswed position for both columns and rows\n",
    "chess_squares_iloc = chess_df.iloc[:4,3:] # Note that iloc uses [] instead of ()\n",
    "print('Selection with the iloc method: ', chess_squares_iloc)"
   ]
  },
  {
   "cell_type": "markdown",
   "metadata": {},
   "source": [
    "Once again, beautiful!"
   ]
  },
  {
   "cell_type": "code",
   "execution_count": 11,
   "metadata": {},
   "outputs": [
    {
     "name": "stdout",
     "output_type": "stream",
     "text": [
      "Index:  RangeIndex(start=1, stop=9, step=1)\n",
      "Columns:  Index(['A', 'B', 'C', 'D', 'E', 'F', 'G', 'H'], dtype='object')\n",
      "Values:  [[ 1  2  3  4  5  6  7  8]\n",
      " [ 9 10 11 12 13 14 15 16]\n",
      " [17 18 19 20 21 22 23 24]\n",
      " [25 26 27 28 29 30 31 32]\n",
      " [33 34 35 36 37 38 39 40]\n",
      " [41 42 43 44 45 46 47 48]\n",
      " [49 50 51 52 53 54 55 56]\n",
      " [57 58 59 60 61 62 63 64]]\n"
     ]
    }
   ],
   "source": [
    "# Also, for DataFrames we can select 3 different attributes\n",
    "# Index, columns, values\n",
    "# Zum beispiel\n",
    "chess_df_index = chess_df.index\n",
    "chess_df_columns = chess_df.columns\n",
    "chess_df_values =chess_df.values\n",
    "print('Index: ', chess_df.index)\n",
    "print('Columns: ', chess_df_columns)\n",
    "print('Values: ', chess_df_values) # Values is an array of arrays."
   ]
  },
  {
   "cell_type": "code",
   "execution_count": 20,
   "metadata": {},
   "outputs": [
    {
     "name": "stdout",
     "output_type": "stream",
     "text": [
      "Column Selection:  1     1\n",
      "2     9\n",
      "3    17\n",
      "4    25\n",
      "5    33\n",
      "6    41\n",
      "7    49\n",
      "8    57\n",
      "Name: A, dtype: int64\n",
      "Selection of a row:  [1 2 3 4 5 6 7 8]\n",
      "Alternate selection of a row:  A    1\n",
      "B    2\n",
      "C    3\n",
      "D    4\n",
      "E    5\n",
      "F    6\n",
      "G    7\n",
      "H    8\n",
      "Name: 1, dtype: int64\n",
      "Condition based selection:  5    37\n",
      "5    37\n",
      "5    37\n",
      "5    37\n",
      "5    37\n",
      "5    37\n",
      "5    37\n",
      "5    37\n",
      "6    45\n",
      "6    45\n",
      "6    45\n",
      "6    45\n",
      "6    45\n",
      "6    45\n",
      "6    45\n",
      "6    45\n",
      "7    53\n",
      "7    53\n",
      "7    53\n",
      "7    53\n",
      "7    53\n",
      "7    53\n",
      "7    53\n",
      "7    53\n",
      "8    61\n",
      "8    61\n",
      "8    61\n",
      "8    61\n",
      "8    61\n",
      "8    61\n",
      "8    61\n",
      "8    61\n",
      "Name: E, dtype: int64\n"
     ]
    }
   ],
   "source": [
    "# To Select a column\n",
    "column_selection = chess_df['A']\n",
    "print('Column Selection: ', column_selection)\n",
    "# To select a row\n",
    "row_selection = chess_df.values[0]\n",
    "print('Selection of a row: ', row_selection)\n",
    "alternate_row_selection = chess_df.loc[1]\n",
    "print('Alternate selection of a row: ', alternate_row_selection)\n",
    "# Condition based selection\n",
    "condition_row_selection = chess_df.loc[chess_df.values > 32, 'E']\n",
    "print('Condition based selection: ', condition_row_selection)"
   ]
  },
  {
   "cell_type": "markdown",
   "metadata": {},
   "source": [
    "Functions applied to Pandas DataFrames"
   ]
  },
  {
   "cell_type": "code",
   "execution_count": 28,
   "metadata": {},
   "outputs": [
    {
     "name": "stdout",
     "output_type": "stream",
     "text": [
      "    0   1   2   3   4   5\n",
      "0  10  12  14  16  18  20\n",
      "1  22  24  26  28  30  32\n",
      "Transposed array:     0   1\n",
      "0  10  22\n",
      "1  12  24\n",
      "2  14  26\n",
      "3  16  28\n",
      "4  18  30\n",
      "5  20  32\n"
     ]
    }
   ],
   "source": [
    "df2 = pd.DataFrame(np.arange(10, 34, 2).reshape(2,6))\n",
    "print(df2)\n",
    "# Now we will transpose the array\n",
    "print('Transposed array:', df2.T)\n"
   ]
  },
  {
   "cell_type": "code",
   "execution_count": 29,
   "metadata": {},
   "outputs": [
    {
     "data": {
      "text/plain": [
       "first      50\n",
       "second     52\n",
       "third      54\n",
       "fourth     56\n",
       "fifth      58\n",
       "sixth      60\n",
       "seventh    62\n",
       "eighth     64\n",
       "ninth      66\n",
       "tenth      68\n",
       "dtype: int64"
      ]
     },
     "execution_count": 29,
     "metadata": {},
     "output_type": "execute_result"
    }
   ],
   "source": [
    "# Vectorized functions\n",
    "numbers = range(50, 70, 2)\n",
    "number_places_list = ['first', 'second', 'third', 'fourth', 'fifth', 'sixth', 'seventh', 'eighth', 'ninth', 'tenth']\n",
    "numbers_series = pd.Series(numbers, index = number_places_list)\n",
    "numbers_series"
   ]
  },
  {
   "cell_type": "code",
   "execution_count": 34,
   "metadata": {},
   "outputs": [
    {
     "name": "stdout",
     "output_type": "stream",
     "text": [
      "        Price  Length\n",
      "BMW X1  10000    3950\n",
      "BMW X2  15000    4000\n",
      "BMW X3  20000    4155\n",
      "BMW X4  30000    4325\n",
      "BMWX5   76500    4500\n",
      "        Price      Length\n",
      "BMW X1  100.0  100.000000\n",
      "BMW X2  150.0  101.265823\n",
      "BMW X3  200.0  105.189873\n",
      "BMW X4  300.0  109.493671\n",
      "BMWX5   765.0  113.924051\n"
     ]
    }
   ],
   "source": [
    "# Let's create a new DataFrame\n",
    "length = [3950, 4000, 4155, 4325, 4500]\n",
    "df_cars_info_2 = pd.DataFrame({'Price' : car_prices_series})\n",
    "df_cars_info_2['Length'] = length\n",
    "print(df_cars_info_2)\n",
    "# Now, let's measure the length as a percentage of the length of the first car\n",
    "print((df_cars_info_2 / df_cars_info_2.iloc[0])*100)"
   ]
  },
  {
   "cell_type": "code",
   "execution_count": 37,
   "metadata": {},
   "outputs": [
    {
     "name": "stdout",
     "output_type": "stream",
     "text": [
      "Number Series:  first      50\n",
      "second     52\n",
      "third      54\n",
      "fourth     56\n",
      "fifth      58\n",
      "sixth      60\n",
      "seventh    62\n",
      "eighth     64\n",
      "ninth      66\n",
      "tenth      68\n",
      "dtype: int64\n",
      "Number Series 2:  first      100\n",
      "second     102\n",
      "third      104\n",
      "fourth     106\n",
      "fifth      108\n",
      "sixth      110\n",
      "seventh    112\n",
      "eighth     114\n",
      "ninth      116\n",
      "tenth      118\n",
      "dtype: int64\n",
      "Combined Number Series:  first      150\n",
      "second     154\n",
      "third      158\n",
      "fourth     162\n",
      "fifth      166\n",
      "sixth      170\n",
      "seventh    174\n",
      "eighth     178\n",
      "ninth      182\n",
      "tenth      186\n",
      "dtype: int64\n",
      "Observe that indexes are conserved when two series of equal lengths are added together.\n"
     ]
    }
   ],
   "source": [
    "# Let's talk about index conservation\n",
    "numbers_2 = range(100, 120, 2)\n",
    "numbers_2_series = pd.Series(numbers_2, index = number_places_list)\n",
    "combined_number_series = numbers_series + numbers_2_series\n",
    "print('Number Series: ', numbers_series)\n",
    "print('Number Series 2: ', numbers_2_series)\n",
    "print('Combined Number Series: ', combined_number_series)\n",
    "print('Observe that indexes are conserved when two series of equal lengths are added together.')"
   ]
  },
  {
   "cell_type": "code",
   "execution_count": 45,
   "metadata": {},
   "outputs": [
    {
     "name": "stdout",
     "output_type": "stream",
     "text": [
      "A slice of the numbers series:  second     52\n",
      "third      54\n",
      "fourth     56\n",
      "fifth      58\n",
      "sixth      60\n",
      "seventh    62\n",
      "dtype: int64\n",
      "A slice of the numbers 2 series:  seventh    112\n",
      "eighth     114\n",
      "dtype: int64\n",
      "A sum of the previous slices: \n",
      "eighth       NaN\n",
      "fifth        NaN\n",
      "fourth       NaN\n",
      "second       NaN\n",
      "seventh    174.0\n",
      "sixth        NaN\n",
      "third        NaN\n",
      "dtype: float64\n",
      "Observe that values which do not share an index are treated as Nan\n"
     ]
    }
   ],
   "source": [
    "numbers_series_shortSlice = numbers_series[1:7]\n",
    "numbers_2_series_shortSlice = numbers_2_series[6:8]\n",
    "print('A slice of the numbers series: ', numbers_series_shortSlice)\n",
    "print('A slice of the numbers 2 series: ', numbers_2_series_shortSlice)\n",
    "print('A sum of the previous slices: ')\n",
    "print(numbers_series_shortSlice.add(numbers_2_series_shortSlice))\n",
    "print('Observe that values which do not share an index are treated as Nan')"
   ]
  },
  {
   "cell_type": "code",
   "execution_count": 53,
   "metadata": {},
   "outputs": [
    {
     "data": {
      "text/plain": [
       "eighth       NaN\n",
       "fifth        NaN\n",
       "fourth       NaN\n",
       "second       NaN\n",
       "seventh    174.0\n",
       "sixth        NaN\n",
       "third        NaN\n",
       "dtype: float64"
      ]
     },
     "execution_count": 53,
     "metadata": {},
     "output_type": "execute_result"
    }
   ],
   "source": [
    "# Almost all function in Python accept a parameter to indicate what to do with possible NaN values\n",
    "# Zum beispiel:\n",
    "numbers_series_3 = numbers_series_shortSlice.add(numbers_2_series_shortSlice)\n",
    "numbers_series_3"
   ]
  },
  {
   "cell_type": "code",
   "execution_count": 56,
   "metadata": {},
   "outputs": [
    {
     "name": "stdout",
     "output_type": "stream",
     "text": [
      "nan\n",
      "Type of a nan value:  <class 'float'>\n",
      "Operation with a NaN value:  nan\n",
      "eighth      True\n",
      "fifth       True\n",
      "fourth      True\n",
      "second      True\n",
      "seventh    False\n",
      "sixth       True\n",
      "third       True\n",
      "dtype: bool\n",
      "eighth       0.0\n",
      "fifth        0.0\n",
      "fourth       0.0\n",
      "second       0.0\n",
      "seventh    174.0\n",
      "sixth        0.0\n",
      "third        0.0\n",
      "dtype: float64\n",
      "seventh    174.0\n",
      "dtype: float64\n",
      "eighth       NaN\n",
      "fifth        NaN\n",
      "fourth       NaN\n",
      "second       NaN\n",
      "seventh    174.0\n",
      "sixth        NaN\n",
      "third        NaN\n",
      "dtype: float64\n"
     ]
    }
   ],
   "source": [
    "# Nan values in Python\n",
    "nan_value = np.NaN\n",
    "print(nan_value)\n",
    "print('Type of a nan value: ', type(nan_value))\n",
    "print(\"Operation with a NaN value: \", 2 * nan_value)\n",
    "# There are several ways to deal with NaN values in Python\n",
    "print(numbers_series_3.isnull())\n",
    "print(numbers_series_3.fillna(0))\n",
    "print(numbers_series_3.dropna())\n",
    "print(numbers_series_3)"
   ]
  }
 ],
 "metadata": {
  "kernelspec": {
   "display_name": "Python 3.7.4 ('base')",
   "language": "python",
   "name": "python3"
  },
  "language_info": {
   "codemirror_mode": {
    "name": "ipython",
    "version": 3
   },
   "file_extension": ".py",
   "mimetype": "text/x-python",
   "name": "python",
   "nbconvert_exporter": "python",
   "pygments_lexer": "ipython3",
   "version": "3.7.4"
  },
  "orig_nbformat": 4,
  "vscode": {
   "interpreter": {
    "hash": "40d3a090f54c6569ab1632332b64b2c03c39dcf918b08424e98f38b5ae0af88f"
   }
  }
 },
 "nbformat": 4,
 "nbformat_minor": 2
}
